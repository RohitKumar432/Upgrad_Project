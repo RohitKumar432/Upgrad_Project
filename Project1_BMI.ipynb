{
 "cells": [
  {
   "cell_type": "code",
   "execution_count": 1,
   "id": "10afd1fe",
   "metadata": {},
   "outputs": [
    {
     "name": "stdout",
     "output_type": "stream",
     "text": [
      "2.8125\n",
      "1800\n",
      "250.0\n",
      "malnourished\n"
     ]
    }
   ],
   "source": [
    "class Child:\n",
    "    def __init__(self, name, age, gender, height, weight):\n",
    "        self.name= name\n",
    "        self.age = age\n",
    "        self.gender= gender\n",
    "        self.height= height\n",
    "        self.weight= weight\n",
    " \n",
    "    def calculate_bmi(self):\n",
    "            bmi= self.weight/ (self.height**2)\n",
    "            return bmi\n",
    " \n",
    "    def  min_daily_calories(self):\n",
    "        if self.age <= 2:\n",
    "            return 800\n",
    "        elif self.age <=4:\n",
    "            return 1400\n",
    "        elif self.age<= 8:\n",
    "            return 1800\n",
    "        else:\n",
    "            return \"Invalid age\"\n",
    " \n",
    "    def daily_calorie_consumption(self, food_list):\n",
    "        total_calories = 0\n",
    "        food_calories = {\"Milk\" : 100, \"egg\" : 155, \"rice\" : 130, \"lentils\" : 113, \"vegetable\" : 85, \"meat\": 143} \n",
    "        for food, quantity in food_list.items():\n",
    "            total_calories += food_calories [food] * (quantity /100)\n",
    "            return total_calories\n",
    " \n",
    " \n",
    "    def check_nourishment(self, food_list):\n",
    "        min_calories = self.min_daily_calories()\n",
    "        consumed_calories = self.daily_calorie_consumption(food_list)\n",
    "        if consumed_calories < min_calories:\n",
    "            return \"malnourished\"\n",
    "        else:\n",
    "            return  \"wellnourished\"\n",
    " \n",
    "Student_name = Child(\"Rohit\" , 6, \"Male\", 4, 45)\n",
    "print(Student_name.calculate_bmi())\n",
    "print(Student_name.min_daily_calories())\n",
    "food_list = {\"Milk\": 250, \"egg\" : 50, \"rice\" :150, \"lentils\": 100, \"vegetable\" :200, \"meat\" :75}\n",
    "print (Student_name.daily_calorie_consumption(food_list))\n",
    "print(Student_name.check_nourishment(food_list))"
   ]
  },
  {
   "cell_type": "code",
   "execution_count": null,
   "id": "95df36d8",
   "metadata": {},
   "outputs": [],
   "source": []
  }
 ],
 "metadata": {
  "kernelspec": {
   "display_name": "Python 3 (ipykernel)",
   "language": "python",
   "name": "python3"
  },
  "language_info": {
   "codemirror_mode": {
    "name": "ipython",
    "version": 3
   },
   "file_extension": ".py",
   "mimetype": "text/x-python",
   "name": "python",
   "nbconvert_exporter": "python",
   "pygments_lexer": "ipython3",
   "version": "3.9.13"
  }
 },
 "nbformat": 4,
 "nbformat_minor": 5
}
